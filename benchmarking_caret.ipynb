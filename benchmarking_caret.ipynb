{
 "cells": [
  {
   "cell_type": "markdown",
   "metadata": {},
   "source": [
    "# Benchmark caret GBM\n"
   ]
  },
  {
   "cell_type": "markdown",
   "metadata": {},
   "source": [
    "with the rpy2 we can run R code into an txt file or just plain text, then setting into a <i> robjects.r() </i> function\n",
    "\n",
    "\n",
    "to run the following it is necesary to have installed R on your computer https://www.r-project.org/ <br>\n",
    "and install rpy2 by <code> pip install rpy2 </code>"
   ]
  },
  {
   "cell_type": "code",
   "execution_count": 1,
   "metadata": {},
   "outputs": [],
   "source": [
    "import pandas as pd\n",
    "import numpy as np\n",
    "import datetime\n",
    "from pathlib import Path\n",
    "from rpy2 import robjects\n",
    "from tadpole_algorithms.preprocessing.split import split_test_train_tadpole\n",
    "\n",
    "\n",
    "#from tadpole_algorithms.models import BenchmarkLastVisit\n",
    "#from tadpole_algorithms.preprocessing.split import split_test_train_tadpole\n",
    "#import os\n",
    "#os.environ['R_HOME'] = \"C:/Program Files/R/R-3.6.3\"\n",
    "\n",
    "#import sys\n",
    "# insert at 1, 0 is the script path (or '' in REPL)\n",
    "#sys.path.insert(1, '/Users/Eider/Documents/GitHub/tadpole-algorithms')\n",
    "\n",
    "import tadpole_algorithms\n",
    "from tadpole_algorithms.models import BenchmarkSVM_R\n",
    "\n"
   ]
  },
  {
   "cell_type": "code",
   "execution_count": 2,
   "metadata": {},
   "outputs": [
    {
     "name": "stdout",
     "output_type": "stream",
     "text": [
      "la lecutra de los csv se hace dentro de la funcion de train\n"
     ]
    }
   ],
   "source": [
    "\n",
    "\n",
    "\n",
    "# Load D1_D2 train and possible test data set\n",
    "#data_path_train_test = Path(\"data/TADPOLE_D1_D2.csv\")\n",
    "#data_df_train_test = pd.read_csv(data_path_train_test)\n",
    "\n",
    "# Load D4 evaluation data set\n",
    "#data_path_eval = Path(\"data/SD4_dummy.csv\")\n",
    "#data_df_eval = pd.read_csv(data_path_eval)\n",
    "\n",
    "\n",
    "# Split data in test, train and evaluation data\n",
    "#train_df, test_df, eval_df = split_test_train_tadpole(data_df_train_test, data_df_eval)\n",
    "#test_df = test_df.fillna(0)\n",
    "#train_df.head()\n",
    "print(\"la lecutra de los csv se hace dentro de la funcion de train\")"
   ]
  },
  {
   "cell_type": "code",
   "execution_count": 9,
   "metadata": {},
   "outputs": [
    {
     "data": {
      "text/plain": [
       "(12741, 1907)"
      ]
     },
     "execution_count": 9,
     "metadata": {},
     "output_type": "execute_result"
    }
   ],
   "source": [
    "data_df_train_test.shape"
   ]
  },
  {
   "cell_type": "code",
   "execution_count": 8,
   "metadata": {},
   "outputs": [
    {
     "data": {
      "text/plain": [
       "((12671, 1907), (896, 1907), (896, 6))"
      ]
     },
     "execution_count": 8,
     "metadata": {},
     "output_type": "execute_result"
    }
   ],
   "source": [
    " train_df.shape,test_df.shape,eval_df.shape"
   ]
  },
  {
   "cell_type": "code",
   "execution_count": null,
   "metadata": {},
   "outputs": [
    {
     "name": "stderr",
     "output_type": "stream",
     "text": [
      "R[write to console]: Loading required package: Rcpp\n",
      "\n",
      "R[write to console]: Loading required package: stringr\n",
      "\n",
      "R[write to console]: Loading required package: miscTools\n",
      "\n",
      "R[write to console]: Loading required package: Hmisc\n",
      "\n",
      "R[write to console]: Loading required package: lattice\n",
      "\n",
      "R[write to console]: Loading required package: survival\n",
      "\n",
      "R[write to console]: Loading required package: Formula\n",
      "\n",
      "R[write to console]: Loading required package: ggplot2\n",
      "\n",
      "R[write to console]: \n",
      "Attaching package: ‘Hmisc’\n",
      "\n",
      "\n",
      "R[write to console]: The following objects are masked from ‘package:base’:\n",
      "\n",
      "    format.pval, units\n",
      "\n",
      "\n",
      "R[write to console]: Loading required package: pROC\n",
      "\n",
      "R[write to console]: Type 'citation(\"pROC\")' for a citation.\n",
      "\n",
      "R[write to console]: \n",
      "Attaching package: ‘pROC’\n",
      "\n",
      "\n",
      "R[write to console]: The following objects are masked from ‘package:stats’:\n",
      "\n",
      "    cov, smooth, var\n",
      "\n",
      "\n"
     ]
    },
    {
     "name": "stdout",
     "output_type": "stream",
     "text": [
      "[1] \"Cortical Thickness Average of RightBankssts\"               \n",
      "[2] \"Cortical Thickness Average of RightCaudalAnteriorCingulate\"\n",
      "[3] \"Cortical Thickness Average of RightCaudalMiddleFrontal\"    \n",
      "[4] \"Cortical Thickness Average of RightBankssts\"               \n",
      "[5] \"Cortical Thickness Average of RightCaudalAnteriorCingulate\"\n",
      "[1] \"Cortical Thickness Average of LeftBankssts\"               \n",
      "[2] \"Cortical Thickness Average of LeftCaudalAnteriorCingulate\"\n",
      "[3] \"Cortical Thickness Average of LeftCaudalMiddleFrontal\"    \n",
      "[4] \"Cortical Thickness Average of LeftBankssts\"               \n",
      "[5] \"Cortical Thickness Average of LeftCaudalAnteriorCingulate\"\n",
      "..................................................500 \n",
      "..................................................1000 \n",
      "..................................................1500 \n",
      "..................................................2000 \n",
      "..................................................2500 \n",
      "..................................................3000 \n",
      "..................................................3500 \n",
      "..................................................4000 \n",
      "..................................................4500 \n",
      "..................................................5000 \n",
      ".............................................."
     ]
    }
   ],
   "source": [
    "#instanciate the model to get the functions\n",
    "model = BenchmarkSVM_R()\n",
    "# Define and train model\n",
    "#model.train(train_df)\n",
    "# Predict forecast on the test set\n",
    "#forecast_df_d2 = model.predict(test_df)\n",
    "gmb_tadpole= model.train(theoutcome=\"DX\",model=\"gmb\")\n",
    "\n"
   ]
  },
  {
   "cell_type": "code",
   "execution_count": null,
   "metadata": {},
   "outputs": [],
   "source": [
    "model_gmb = model.train(\"DX\",\"gmb\",tidy_df) "
   ]
  },
  {
   "cell_type": "code",
   "execution_count": 14,
   "metadata": {},
   "outputs": [
    {
     "data": {
      "text/html": [
       "\n",
       "        <span>FloatVector with 100 elements.</span>\n",
       "        <table>\n",
       "        <tbody>\n",
       "          <tr>\n",
       "          \n",
       "            <td>\n",
       "            4.424855\n",
       "            </td>\n",
       "          \n",
       "            <td>\n",
       "            5.453082\n",
       "            </td>\n",
       "          \n",
       "            <td>\n",
       "            4.904385\n",
       "            </td>\n",
       "          \n",
       "            <td>\n",
       "            ...\n",
       "            </td>\n",
       "          \n",
       "            <td>\n",
       "            4.412096\n",
       "            </td>\n",
       "          \n",
       "            <td>\n",
       "            4.954831\n",
       "            </td>\n",
       "          \n",
       "            <td>\n",
       "            4.953576\n",
       "            </td>\n",
       "          \n",
       "          </tr>\n",
       "        </tbody>\n",
       "        </table>\n",
       "        "
      ],
      "text/plain": [
       "R object with classes: ('numeric',) mapped to:\n",
       "[4.424855, 5.453082, 4.904385, 5.390177, ..., 4.801156, 4.412096, 4.954831, 4.953576]"
      ]
     },
     "execution_count": 14,
     "metadata": {},
     "output_type": "execute_result"
    }
   ],
   "source": [
    "diab_svm= model.SVM_fitting_R(formula=\"y~.\",dataframe=df_diab_r)\n",
    "#predict using our model on new data\n",
    "predictions = model.predict_R(model=diab_svm,\n",
    "                              test_df=predict_df_R)\n",
    "predictions"
   ]
  },
  {
   "cell_type": "code",
   "execution_count": null,
   "metadata": {},
   "outputs": [],
   "source": [
    "crear funcion de xgb en r y hacerla funcionar en el pipeline"
   ]
  }
 ],
 "metadata": {
  "kernelspec": {
   "display_name": "Python 3",
   "language": "python",
   "name": "python3"
  },
  "language_info": {
   "codemirror_mode": {
    "name": "ipython",
    "version": 3
   },
   "file_extension": ".py",
   "mimetype": "text/x-python",
   "name": "python",
   "nbconvert_exporter": "python",
   "pygments_lexer": "ipython3",
   "version": "3.7.6"
  }
 },
 "nbformat": 4,
 "nbformat_minor": 4
}
