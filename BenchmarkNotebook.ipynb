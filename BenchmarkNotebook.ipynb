{
 "cells": [
  {
   "cell_type": "markdown",
   "metadata": {},
   "source": [
    "# Notebook Draft\n",
    "\n",
    "This notebook contains a draft for the general structure to call the model, some functions can be written directly in python, they are marked with \"(revisar)\" in the comments. It corresponds to the FinalScriptForTadpoleHakaton R script.\n",
    "\n",
    "### In process ..."
   ]
  },
  {
   "cell_type": "code",
   "execution_count": 13,
   "metadata": {},
   "outputs": [],
   "source": [
    "import pandas as pd\n",
    "import numpy as np\n",
    "\n",
    "from tadpole_algorithms.models import BenchmarkModel\n",
    "\n",
    "#Define model\n",
    "model = BenchmarkModel()\n",
    "\n",
    "#Load the datasets (revisar)\n",
    "path_D1_D2_Dict = 'TADPOLE_D1_D2_Dict.csv'\n",
    "path_D1_D2 = 'TADPOLE_D1_D2.csv'\n",
    "path_D3 = 'TADPOLE_D3.csv'\n",
    "path_simple_submission = 'TADPOLE_Submission_TamezTECMTY.xlsx'\n",
    "\n",
    "submissionTemplate, TADPOLE_D1_D2_Dict, TADPOLE_D1_D2, TADPOLE_D3 = model.loading_data(self,\n",
    "                                                                                       path_D1_D2_Dict,\n",
    "                                                                                       path_D1_D2,\n",
    "                                                                                       path_D3,\n",
    "                                                                                       path_simple_submission)\n",
    "\n",
    "\n",
    "#Train test split (revisar)\n",
    "TrainingSet, D2TesingSet, TADPOLE_D3 = model.split(self, TADPOLE_D1_D2, TADPOLE_D3)\n",
    "\n",
    "#Data processing\n",
    "TrainingSet, D2TesingSet = model.data_conditioning_for_D2(self, TrainingSet, D2TesingSet)\n",
    "dataTadpole = model.data_preprocessing(self, TrainingSet, D2TesingSet, TADPOLE_D1_D2_Dict, 36, 0.25, 0.10, FALSE)\n",
    "\n",
    "#Train 25 Models for the D2 subjects\n",
    "CognitiveClassModels = model.Train_25_Models_D2_subjects(self, dataTadpoleD3, method=BSWiMS.model, b_delta=TRUE)\n",
    "\n",
    "#Predict the models on D2 subjects\n",
    "predictADNI = model.predict_D2_subjects(self, CognitiveClassModels, dataTadpole)\n"
   ]
  },
  {
   "cell_type": "code",
   "execution_count": null,
   "metadata": {},
   "outputs": [],
   "source": [
    "###Training ADAS and Ventricles\n",
    "\n",
    "#Get the original data D3 train (revisar)\n",
    "dataTadpole = model.get_D3_data(self, TrainingSet)\n",
    "\n",
    "#Train 50 models based on D1 data\n",
    "CognitiveRegresModels = model.Train_50_Models_D1_data(self, dataTadpole, model=BSWiMS.model)\n",
    "\n",
    "#Ventricles and ADAS13 prediction preparation (revisar)\n",
    "ltptf = model.ventr_adas_data_preparation(self, dataTadpole)\n",
    "\n",
    "#Forecasting 5 years. The forcast transfomrs back to the actual space\n",
    "forecast = model.five_year_for_cast(self, predictADNI, ltptf, CognitiveRegresModels, submissionTemplate)\n",
    "\n",
    "#write.csv(forecast,file=\"ForecastD2_BORREGOS_TEC.csv\"\n",
    "\n",
    "#D3 Cross sectional preparation (revisar)\n",
    "D3IDS, D3TrainingSet = model.remove_D2_from_train(self, TADPOLE_D3, TrainingSet)\n",
    "\n",
    "#Build the 35 predictive models of cognitive status (modificar entrada para python)\n",
    "D3CognitiveClassModels = model.Train_25_Models_D2_subjects(self, dataTadpoleD3[0], method=BSWiMS.model, b_delta=FALSE)\n",
    "\n",
    "#Predict all D3 congnitive status\n",
    "predictADNID3 = model.predict_D2_subjects(self, D3CognitiveClassModels, dataTadpoleD3[1])\n",
    "\n",
    "#Train D3 Correlations ADAS 13 and Ventricles (revisar)\n",
    "dataTadpoleD3 = model.train_D3_corr_vdas_ventr(self, D3TrainingSet)\n",
    "D3RegresModels = model.Train_50_Models_D1_data(self, dataTadpole, model=BSWiMS.model)\n",
    "\n",
    "#Preparation the D3 ADAS13 and Ventricles for predict (revisar)\n",
    "ltptf = last_time_D3(self, D3TrainingSet)\n",
    "\n",
    "#Forecast the testing set\n",
    "forecastD3 = model.five_year_for_cast(self, predictADNID3, ltptf, D3RegresModels, submissionTemplate)\n",
    "\n",
    "#write.csv(forecastD3,file=\"ForecastD3_BORREGOS_TEC.csv\")"
   ]
  }
 ],
 "metadata": {
  "kernelspec": {
   "display_name": "Python 3",
   "language": "python",
   "name": "python3"
  },
  "language_info": {
   "codemirror_mode": {
    "name": "ipython",
    "version": 3
   },
   "file_extension": ".py",
   "mimetype": "text/x-python",
   "name": "python",
   "nbconvert_exporter": "python",
   "pygments_lexer": "ipython3",
   "version": "3.7.6"
  }
 },
 "nbformat": 4,
 "nbformat_minor": 4
}
