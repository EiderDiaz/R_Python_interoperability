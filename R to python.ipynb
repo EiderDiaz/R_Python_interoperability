{
 "cells": [
  {
   "cell_type": "markdown",
   "metadata": {},
   "source": [
    "# R to python\n",
    "\n"
   ]
  },
  {
   "cell_type": "markdown",
   "metadata": {},
   "source": [
    "with the rpy2 we can run R code into an txt file or just plain text, then setting into a <i> robjects.r() </i> function"
   ]
  },
  {
   "cell_type": "code",
   "execution_count": 2,
   "metadata": {},
   "outputs": [
    {
     "name": "stdout",
     "output_type": "stream",
     "text": [
      "[1] 18.84956\n",
      "\n"
     ]
    }
   ],
   "source": [
    "from rpy2 import robjects\n",
    "with open('./testfunc.txt', 'r') as file:\n",
    "    function = file.read()\n",
    "    #print(function+\"simon\")\n",
    "    r_func=robjects.r(function)\n",
    "    print(r_func)\n",
    "\n",
    "\n"
   ]
  },
  {
   "cell_type": "markdown",
   "metadata": {},
   "source": [
    "i made some progress loadind the BSIWMS funct, but i still dont know how to use the R function into python enviroment "
   ]
  },
  {
   "cell_type": "code",
   "execution_count": 3,
   "metadata": {},
   "outputs": [
    {
     "data": {
      "text/plain": [
       "R object with classes: ('function',) mapped to:\n",
       "<SignatureTranslatedFunction - Python:0x0000016C5ECD4048 / R:0x0000016C62B16B28>"
      ]
     },
     "execution_count": 3,
     "metadata": {},
     "output_type": "execute_result"
    }
   ],
   "source": [
    "bswimstext = \"\"\n",
    "with open('./BSWIMS.txt', 'r') as file:\n",
    "    #this file contains the BSWIMS function \n",
    "    bswimstext = file.read()\n",
    "\n",
    "robjects.r(bswimstext)\n",
    "\n",
    "#robjects.r(''' BSWiMS.model(formula = paste(theOutcome,\" ~ 1\"),data = theData,NumberofRepeats = bswimsReps) ''')"
   ]
  }
 ],
 "metadata": {
  "kernelspec": {
   "display_name": "Python 3",
   "language": "python",
   "name": "python3"
  },
  "language_info": {
   "codemirror_mode": {
    "name": "ipython",
    "version": 3
   },
   "file_extension": ".py",
   "mimetype": "text/x-python",
   "name": "python",
   "nbconvert_exporter": "python",
   "pygments_lexer": "ipython3",
   "version": "3.7.3"
  }
 },
 "nbformat": 4,
 "nbformat_minor": 4
}
