{
 "cells": [
  {
   "cell_type": "markdown",
   "metadata": {},
   "source": [
    "# R to python\n",
    "\n"
   ]
  },
  {
   "cell_type": "markdown",
   "metadata": {},
   "source": [
    "with the rpy2 we can run R code into an txt file or just plain text, then setting into a <i> robjects.r() </i> function\n",
    "\n",
    "\n",
    "to run the following it is necesary to have installed R on your computer https://www.r-project.org/ <br>\n",
    "and install rpy2 by <code> pip install rpy2 </code>"
   ]
  },
  {
   "cell_type": "markdown",
   "metadata": {},
   "source": [
    "# LINEAR MODEL IN R\n",
    "los chunks a continuacion son una implementacion de Rpy2 para correr un <i>lm()</i>  en R y desplegar los resultados y plots en python"
   ]
  },
  {
   "cell_type": "code",
   "execution_count": 1,
   "metadata": {},
   "outputs": [],
   "source": [
    "import pandas as pd\n",
    "import numpy as np\n",
    "import datetime\n",
    "from pathlib import Path\n",
    "from rpy2 import robjects\n",
    "\n",
    "#from tadpole_algorithms.models import BenchmarkLastVisit\n",
    "#from tadpole_algorithms.preprocessing.split import split_test_train_tadpole\n",
    "#import os\n",
    "#os.environ['R_HOME'] = \"C:/Program Files/R/R-3.6.3\"\n",
    "\n",
    "#import sys\n",
    "# insert at 1, 0 is the script path (or '' in REPL)\n",
    "#sys.path.insert(1, '/Users/Eider/Documents/GitHub/tadpole-algorithms')\n",
    "\n",
    "import tadpole_algorithms\n",
    "from tadpole_algorithms.models import BenchmarkSVM_R\n",
    "\n",
    "\n"
   ]
  },
  {
   "cell_type": "code",
   "execution_count": 2,
   "metadata": {},
   "outputs": [],
   "source": [
    "#instanciate the model to get the functions\n",
    "model = BenchmarkSVM_R()\n"
   ]
  },
  {
   "cell_type": "code",
   "execution_count": 5,
   "metadata": {},
   "outputs": [
    {
     "data": {
      "text/html": [
       "\n",
       "        <span>R/rpy2 DataFrame (43 x 3)</span>\n",
       "        <table>\n",
       "          <thead>\n",
       "            <tr>\n",
       "              \n",
       "              <th>age</th>\n",
       "              \n",
       "              <th>acidity</th>\n",
       "              \n",
       "              <th>y</th>\n",
       "              \n",
       "            </tr>\n",
       "          </thead>\n",
       "          <tbody>\n",
       "          \n",
       "          <tr>\n",
       "            \n",
       "            <td>\n",
       "              ...\n",
       "            </td>\n",
       "            \n",
       "            <td>\n",
       "              ...\n",
       "            </td>\n",
       "            \n",
       "            <td>\n",
       "              ...\n",
       "            </td>\n",
       "            \n",
       "          </tr>\n",
       "          \n",
       "          </tbody>\n",
       "        </table>\n",
       "    "
      ],
      "text/plain": [
       "R object with classes: ('data.frame',) mapped to:\n",
       "[FloatSexpVector, FloatSexpVector, FloatSexpVector]\n",
       "  age: <class 'rpy2.rinterface.FloatSexpVector'>\n",
       "  <rpy2.rinterface.FloatSexpVector object at 0x7fc74f99cdc0> [RTYPES.REALSXP]\n",
       "  acidity: <class 'rpy2.rinterface.FloatSexpVector'>\n",
       "  <rpy2.rinterface.FloatSexpVector object at 0x7fc74f9a1280> [RTYPES.REALSXP]\n",
       "  y: <class 'rpy2.rinterface.FloatSexpVector'>\n",
       "  <rpy2.rinterface.FloatSexpVector object at 0x7fc74f9a1460> [RTYPES.REALSXP]"
      ]
     },
     "execution_count": 5,
     "metadata": {},
     "output_type": "execute_result"
    }
   ],
   "source": [
    "#load a csv and do some preprosess so R can handle it\n",
    "df_diab = pd.read_csv(\"diabetes.csv\")\n",
    "#call the preprocess function to create a R dataframe with a python dataframe\n",
    "df_diab_r = model.preprocess_df_R(df_diab)\n",
    "df_diab_r"
   ]
  },
  {
   "cell_type": "code",
   "execution_count": 6,
   "metadata": {},
   "outputs": [],
   "source": [
    "#model the data with a linear model and get the results\n",
    "diab_lm = model.modelfitting_R(model=\"lm\",\n",
    "                               formula=\"y~.\",\n",
    "                               dataframe=df_diab_r) #can also use a 'dumb' formula and pass a dataframe\n",
    "#diab_lm"
   ]
  },
  {
   "cell_type": "code",
   "execution_count": 7,
   "metadata": {},
   "outputs": [
    {
     "name": "stdout",
     "output_type": "stream",
     "text": [
      " [1] \"coefficients\"  \"residuals\"     \"effects\"       \"rank\"         \n",
      " [5] \"fitted.values\" \"assign\"        \"qr\"            \"df.residual\"  \n",
      " [9] \"xlevels\"       \"call\"          \"terms\"         \"model\"        \n",
      "\n"
     ]
    }
   ],
   "source": [
    "#more detail results\n",
    "print(diab_lm.names) # view all names"
   ]
  },
  {
   "cell_type": "code",
   "execution_count": 8,
   "metadata": {},
   "outputs": [
    {
     "data": {
      "text/html": [
       "\n",
       "        <span>FloatVector with 100 elements.</span>\n",
       "        <table>\n",
       "        <tbody>\n",
       "          <tr>\n",
       "          \n",
       "            <td>\n",
       "            4.463688\n",
       "            </td>\n",
       "          \n",
       "            <td>\n",
       "            5.523537\n",
       "            </td>\n",
       "          \n",
       "            <td>\n",
       "            5.000304\n",
       "            </td>\n",
       "          \n",
       "            <td>\n",
       "            ...\n",
       "            </td>\n",
       "          \n",
       "            <td>\n",
       "            4.301887\n",
       "            </td>\n",
       "          \n",
       "            <td>\n",
       "            4.874336\n",
       "            </td>\n",
       "          \n",
       "            <td>\n",
       "            5.037057\n",
       "            </td>\n",
       "          \n",
       "          </tr>\n",
       "        </tbody>\n",
       "        </table>\n",
       "        "
      ],
      "text/plain": [
       "R object with classes: ('numeric',) mapped to:\n",
       "[4.463688, 5.523537, 5.000304, 5.393809, ..., 4.858787, 4.301887, 4.874336, 5.037057]"
      ]
     },
     "execution_count": 8,
     "metadata": {},
     "output_type": "execute_result"
    }
   ],
   "source": [
    "#create a new dataframe \n",
    "\n",
    "predict_df = pd.DataFrame({'age': np.random.normal(9, 4, 100),\n",
    "                           'acidity':np.random.normal(-8,7,100) } )\n",
    "#parse python df to R df\n",
    "predict_df_R = model.preprocess_df_R(predict_df)\n",
    "#predict using our model on new data\n",
    "predictions = model.predict_R(model=diab_lm,\n",
    "                              test_df=predict_df_R)\n",
    "\n",
    "predictions\n"
   ]
  },
  {
   "cell_type": "markdown",
   "metadata": {},
   "source": [
    "# BWSIMS (UNDER CONSTRUCTION)"
   ]
  },
  {
   "cell_type": "code",
   "execution_count": 9,
   "metadata": {},
   "outputs": [
    {
     "data": {
      "text/plain": [
       "R object with classes: ('function',) mapped to:"
      ]
     },
     "execution_count": 9,
     "metadata": {},
     "output_type": "execute_result"
    }
   ],
   "source": [
    "bswimstext = \"\"\n",
    "with open('./BSWIMS.txt', 'r') as file:\n",
    "    #this file contains the BSWIMS function \n",
    "    bswimstext = file.read()\n",
    "\n",
    "robjects.r(bswimstext)\n",
    "\n",
    "#robjects.r(''' BSWiMS.model(formula = paste(theOutcome,\" ~ 1\"),data = theData,NumberofRepeats = bswimsReps) ''')"
   ]
  },
  {
   "cell_type": "markdown",
   "metadata": {},
   "source": [
    "# SVM IN R(UNDER CONSTRUCTION)"
   ]
  },
  {
   "cell_type": "code",
   "execution_count": 14,
   "metadata": {},
   "outputs": [
    {
     "data": {
      "text/html": [
       "\n",
       "        <span>FloatVector with 100 elements.</span>\n",
       "        <table>\n",
       "        <tbody>\n",
       "          <tr>\n",
       "          \n",
       "            <td>\n",
       "            4.424855\n",
       "            </td>\n",
       "          \n",
       "            <td>\n",
       "            5.453082\n",
       "            </td>\n",
       "          \n",
       "            <td>\n",
       "            4.904385\n",
       "            </td>\n",
       "          \n",
       "            <td>\n",
       "            ...\n",
       "            </td>\n",
       "          \n",
       "            <td>\n",
       "            4.412096\n",
       "            </td>\n",
       "          \n",
       "            <td>\n",
       "            4.954831\n",
       "            </td>\n",
       "          \n",
       "            <td>\n",
       "            4.953576\n",
       "            </td>\n",
       "          \n",
       "          </tr>\n",
       "        </tbody>\n",
       "        </table>\n",
       "        "
      ],
      "text/plain": [
       "R object with classes: ('numeric',) mapped to:\n",
       "[4.424855, 5.453082, 4.904385, 5.390177, ..., 4.801156, 4.412096, 4.954831, 4.953576]"
      ]
     },
     "execution_count": 14,
     "metadata": {},
     "output_type": "execute_result"
    }
   ],
   "source": [
    "diab_svm= model.SVM_fitting_R(formula=\"y~.\",dataframe=df_diab_r)\n",
    "#predict using our model on new data\n",
    "predictions = model.predict_R(model=diab_svm,\n",
    "                              test_df=predict_df_R)\n",
    "predictions"
   ]
  },
  {
   "cell_type": "code",
   "execution_count": 15,
   "metadata": {},
   "outputs": [],
   "source": [
    "FRESA = importr('FRESA.CAD')\n"
   ]
  },
  {
   "cell_type": "code",
   "execution_count": 16,
   "metadata": {},
   "outputs": [
    {
     "data": {
      "text/plain": [
       "rpy2.robjects.packages.Package as a <module 'FRESA.CAD'>"
      ]
     },
     "execution_count": 16,
     "metadata": {},
     "output_type": "execute_result"
    }
   ],
   "source": [
    "FRESA"
   ]
  },
  {
   "cell_type": "code",
   "execution_count": 6,
   "metadata": {},
   "outputs": [
    {
     "name": "stdout",
     "output_type": "stream",
     "text": [
      "..................................................500 \n",
      "...................................."
     ]
    }
   ],
   "source": [
    "df = model.tadpole_tidyng()\n",
    "df"
   ]
  },
  {
   "cell_type": "code",
   "execution_count": 8,
   "metadata": {},
   "outputs": [
    {
     "name": "stderr",
     "output_type": "stream",
     "text": [
      "R[write to console]: \n",
      "WARNING: reaching max number of iterations\n",
      "\n"
     ]
    },
    {
     "data": {
      "text/html": [
       "\n",
       "        <span>FloatVector with 864 elements.</span>\n",
       "        <table>\n",
       "        <tbody>\n",
       "          <tr>\n",
       "          \n",
       "            <td>\n",
       "            0.100013\n",
       "            </td>\n",
       "          \n",
       "            <td>\n",
       "            0.311945\n",
       "            </td>\n",
       "          \n",
       "            <td>\n",
       "            0.901169\n",
       "            </td>\n",
       "          \n",
       "            <td>\n",
       "            ...\n",
       "            </td>\n",
       "          \n",
       "            <td>\n",
       "            0.097862\n",
       "            </td>\n",
       "          \n",
       "            <td>\n",
       "            0.099500\n",
       "            </td>\n",
       "          \n",
       "            <td>\n",
       "            0.100415\n",
       "            </td>\n",
       "          \n",
       "          </tr>\n",
       "        </tbody>\n",
       "        </table>\n",
       "        "
      ],
      "text/plain": [
       "R object with classes: ('numeric',) mapped to:\n",
       "[0.100013, 0.311945, 0.901169, 0.281181, ..., 0.101384, 0.097862, 0.099500, 0.100415]"
      ]
     },
     "execution_count": 8,
     "metadata": {},
     "output_type": "execute_result"
    }
   ],
   "source": [
    "#predictions using svm over tadpole tidy dataframe\n",
    "tadpole_svm= model.SVM_fitting_R(formula=\"status~.\",dataframe=df)\n",
    "#predict using our model on the same data\n",
    "predictions = model.predict_R(model=tadpole_svm,\n",
    "                              test_df=df)\n",
    "predictions\n"
   ]
  },
  {
   "cell_type": "code",
   "execution_count": null,
   "metadata": {},
   "outputs": [],
   "source": []
  }
 ],
 "metadata": {
  "kernelspec": {
   "display_name": "Python 3",
   "language": "python",
   "name": "python3"
  },
  "language_info": {
   "codemirror_mode": {
    "name": "ipython",
    "version": 3
   },
   "file_extension": ".py",
   "mimetype": "text/x-python",
   "name": "python",
   "nbconvert_exporter": "python",
   "pygments_lexer": "ipython3",
   "version": "3.7.6"
  }
 },
 "nbformat": 4,
 "nbformat_minor": 4
}
